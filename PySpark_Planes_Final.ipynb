{
 "cells": [
  {
   "cell_type": "markdown",
   "metadata": {},
   "source": [
    "In this notebook, I answer several questions concerning airplane data."
   ]
  },
  {
   "cell_type": "code",
   "execution_count": 2,
   "metadata": {
    "collapsed": true
   },
   "outputs": [],
   "source": [
    "import pyspark  "
   ]
  },
  {
   "cell_type": "code",
   "execution_count": 3,
   "metadata": {
    "collapsed": true
   },
   "outputs": [],
   "source": [
    "sc = pyspark.SparkContext()"
   ]
  },
  {
   "cell_type": "markdown",
   "metadata": {},
   "source": [
    "Question: Find the top 3 airlines with the most flights\n",
    "\n",
    "First import data and split."
   ]
  },
  {
   "cell_type": "code",
   "execution_count": 5,
   "metadata": {
    "collapsed": false
   },
   "outputs": [
    {
     "name": "stdout",
     "output_type": "stream",
     "text": [
      "[['1', '3', '4', '1512', '1802', 'WN', '706', 'N491WN', '110', '88', '112', '117', 'LAS', 'DEN', '629', '8', '14', '0', '', '0']]\n"
     ]
    }
   ],
   "source": [
    "flightRdd=sc.textFile(\"datasets/flights.csv\").map(lambda line: line.split(\",\"))\n",
    "print(flightRdd.take(1))"
   ]
  },
  {
   "cell_type": "markdown",
   "metadata": {},
   "source": [
    "Then map the carriers."
   ]
  },
  {
   "cell_type": "code",
   "execution_count": 6,
   "metadata": {
    "collapsed": false
   },
   "outputs": [
    {
     "name": "stdout",
     "output_type": "stream",
     "text": [
      "[('WN', 1)]\n"
     ]
    }
   ],
   "source": [
    "carrierRdd = flightRdd.map(lambda line: (line[5],1))\n",
    "print(carrierRdd.take(1))"
   ]
  },
  {
   "cell_type": "markdown",
   "metadata": {},
   "source": [
    "Reduce the RDD to get the number of flights for each airline."
   ]
  },
  {
   "cell_type": "code",
   "execution_count": 7,
   "metadata": {
    "collapsed": false
   },
   "outputs": [
    {
     "name": "stdout",
     "output_type": "stream",
     "text": [
      "[(11807, 'WN'), (5819, 'AA'), (5550, 'OO'), (4670, 'MQ'), (4491, 'US')]\n"
     ]
    }
   ],
   "source": [
    "reducedCarrierRdd = carrierRdd.reduceByKey(lambda a,b: a+b)\n",
    "print(reducedCarrierRdd.map(lambda x: (x[1],x[0])).sortByKey(False).take(5))"
   ]
  },
  {
   "cell_type": "markdown",
   "metadata": {},
   "source": [
    "Question: Find the top 5 most common routes, between two cities.\n",
    "\n",
    "First import data and split."
   ]
  },
  {
   "cell_type": "code",
   "execution_count": 8,
   "metadata": {
    "collapsed": false
   },
   "outputs": [
    {
     "name": "stdout",
     "output_type": "stream",
     "text": [
      "[['\"iata\"', '\"airport\"', '\"city\"', '\"state\"', '\"country\"', '\"lat\"', '\"long\"'], ['\"00M\"', '\"Thigpen \"', '\"Bay Springs\"', '\"MS\"', '\"USA\"', '31.95376472', '-89.23450472'], ['\"00R\"', '\"Livingston Municipal\"', '\"Livingston\"', '\"TX\"', '\"USA\"', '30.68586111', '-95.01792778']]\n"
     ]
    }
   ],
   "source": [
    "airportsRdd = sc.textFile(\"datasets/airports.csv\").map(lambda line: line.split(\",\"))\n",
    "print(airportsRdd.take(3))"
   ]
  },
  {
   "cell_type": "markdown",
   "metadata": {},
   "source": [
    "Create a new RDD using the smallest amount of required data."
   ]
  },
  {
   "cell_type": "code",
   "execution_count": 9,
   "metadata": {
    "collapsed": false
   },
   "outputs": [
    {
     "name": "stdout",
     "output_type": "stream",
     "text": [
      "[('\"00M\"', '\"Bay Springs\"'), ('\"00R\"', '\"Livingston\"'), ('\"00V\"', '\"Colorado Springs\"'), ('\"01G\"', '\"Perry\"'), ('\"01J\"', '\"Hilliard\"')]\n",
      "[('ABE', 'DTW'), ('ABE', 'DTW'), ('ABE', 'CLE'), ('ABE', 'CLE'), ('ABE', 'CLE')]\n"
     ]
    }
   ],
   "source": [
    "cityRdd = airportsRdd.map(lambda line: (line[0],line[2]))\n",
    "print(cityRdd.sortByKey().take(5))\n",
    "flightOrigDestRdd = flightRdd.map(lambda line: (line[12], line[13]))\n",
    "print(flightOrigDestRdd.sortByKey().take(5))"
   ]
  },
  {
   "cell_type": "markdown",
   "metadata": {},
   "source": [
    "Clean the data in order to join."
   ]
  },
  {
   "cell_type": "code",
   "execution_count": 10,
   "metadata": {
    "collapsed": false
   },
   "outputs": [
    {
     "name": "stdout",
     "output_type": "stream",
     "text": [
      "[('iata', 'city'), ('00M', 'Bay Springs'), ('00R', 'Livingston'), ('00V', 'Colorado Springs'), ('01G', 'Perry')]\n",
      "[('JNU', ('Juneau', 'SIT')), ('JNU', ('Juneau', 'KTN')), ('JNU', ('Juneau', 'SEA')), ('JNU', ('Juneau', 'SEA')), ('JNU', ('Juneau', 'ANC'))]\n"
     ]
    }
   ],
   "source": [
    "cityRdd = cityRdd.map(lambda line: (line[0].strip('\"'),line[1].strip('\"')))\n",
    "print(cityRdd.take(5))\n",
    "flightsRdd = cityRdd.join(flightOrigDestRdd)\n",
    "print(flightsRdd.take(5))"
   ]
  },
  {
   "cell_type": "markdown",
   "metadata": {},
   "source": [
    "Map and reduce."
   ]
  },
  {
   "cell_type": "code",
   "execution_count": 11,
   "metadata": {
    "collapsed": false
   },
   "outputs": [
    {
     "name": "stdout",
     "output_type": "stream",
     "text": [
      "[(('Juneau', 'SIT'), 1), (('Juneau', 'KTN'), 1), (('Juneau', 'SEA'), 1), (('Juneau', 'SEA'), 1), (('Juneau', 'ANC'), 1)]\n",
      "[(164, ('New York', 'BOS')), (150, ('New York', 'DCA')), (140, ('Los Angeles', 'SAN')), (137, ('Los Angeles', 'SFO')), (137, ('Houston', 'DAL'))]\n"
     ]
    }
   ],
   "source": [
    "mappedFlightsRdd = flightsRdd.map(lambda line: (line[1], 1))\n",
    "print(mappedFlightsRdd.take(5))\n",
    "reducedRdd = mappedFlightsRdd.reduceByKey(lambda a,b:a+b)\n",
    "reducedRdd = reducedRdd.map(lambda x: (x[1],x[0])).sortByKey(False)\n",
    "print(reducedRdd.take(5))"
   ]
  },
  {
   "cell_type": "markdown",
   "metadata": {},
   "source": [
    "Question: Find the longest departure delay for each airline if its over 15 minutes"
   ]
  },
  {
   "cell_type": "code",
   "execution_count": 12,
   "metadata": {
    "collapsed": false
   },
   "outputs": [
    {
     "name": "stdout",
     "output_type": "stream",
     "text": [
      "[(960, 'UA'), (953, 'AA'), (759, 'CO'), (757, 'US'), (733, 'NW')]\n"
     ]
    }
   ],
   "source": [
    "flightRdd=sc.textFile(\"datasets/flights.csv\").map(lambda line: line.split(\",\"))\n",
    "delayRdd = flightRdd.map(lambda line: (line[5], int(line[11]))).filter(lambda line: line[1] > 15).reduceByKey(lambda a,b: max(a,b)).map(lambda x:(x[1],x[0])).sortByKey(False)\n",
    "print(delayRdd.take(5))"
   ]
  },
  {
   "cell_type": "markdown",
   "metadata": {},
   "source": [
    "Question: Find the most common airplane model for flights over 1500 miles"
   ]
  },
  {
   "cell_type": "code",
   "execution_count": 15,
   "metadata": {
    "collapsed": false
   },
   "outputs": [
    {
     "name": "stdout",
     "output_type": "stream",
     "text": [
      "[(950, 'A320-232'), (747, '737-7H4'), (505, '757-222'), (455, '757-232'), (366, '737-824')]\n"
     ]
    }
   ],
   "source": [
    "flightRdd=sc.textFile(\"datasets/flights.csv\").map(lambda line: line.split(\",\"))\n",
    "planeDataRdd = sc.textFile(\"datasets/plane-data.csv\").map(lambda line: line.split(\",\")).filter(lambda line: len(line) == 9).map(lambda line: (line[0], line[4]))\n",
    "longDataRdd = flightRdd.map(lambda line: (line[7], int(line[14]))).filter(lambda line: line[1] > 1500).join(planeDataRdd).map(lambda line: (line[1][1],line[1][0])).map(lambda line: (line[0],1)).reduceByKey(lambda a,b:a+b).map(lambda x:(x[1],x[0])).sortByKey(False)\n",
    "\n",
    "print(longDataRdd.take(5))"
   ]
  }
 ],
 "metadata": {
  "kernelspec": {
   "display_name": "Python 3",
   "language": "python",
   "name": "python3"
  },
  "language_info": {
   "codemirror_mode": {
    "name": "ipython",
    "version": 3
   },
   "file_extension": ".py",
   "mimetype": "text/x-python",
   "name": "python",
   "nbconvert_exporter": "python",
   "pygments_lexer": "ipython3",
   "version": "3.4.3"
  }
 },
 "nbformat": 4,
 "nbformat_minor": 0
}
